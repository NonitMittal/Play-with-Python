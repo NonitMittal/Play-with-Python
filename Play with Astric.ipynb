{
 "cells": [
  {
   "cell_type": "markdown",
   "metadata": {},
   "source": [
    "# Left Right Triangle"
   ]
  },
  {
   "cell_type": "code",
   "execution_count": 4,
   "metadata": {
    "scrolled": true
   },
   "outputs": [
    {
     "name": "stdout",
     "output_type": "stream",
     "text": [
      "Enter Number: 5\n",
      "\n",
      "\n",
      "\n",
      "*\n",
      "**\n",
      "***\n",
      "****\n",
      "*****\n"
     ]
    }
   ],
   "source": [
    "x = int(input(\"Enter Number: \"))\n",
    "\n",
    "print(\"\\n\\n\")\n",
    "\n",
    "for x in range(x):\n",
    "    print(\"*\" * (x+1))"
   ]
  },
  {
   "cell_type": "markdown",
   "metadata": {},
   "source": [
    "# Left Triangle "
   ]
  },
  {
   "cell_type": "code",
   "execution_count": 35,
   "metadata": {},
   "outputs": [
    {
     "name": "stdout",
     "output_type": "stream",
     "text": [
      "Enter Number: 6\n",
      "\n",
      "\n",
      "\n",
      "*\n",
      "**\n",
      "***\n",
      "****\n",
      "*****\n",
      "******\n",
      "*****\n",
      "****\n",
      "***\n",
      "**\n",
      "*\n"
     ]
    }
   ],
   "source": [
    "x = int(input(\"Enter Number: \"))\n",
    "\n",
    "print(\"\\n\\n\")\n",
    "\n",
    "for x in range(x):\n",
    "    print(\"*\" * (x+1))\n",
    "\n",
    "for x in range(x,0,-1):\n",
    "    print(\"*\" * (x))\n",
    "    "
   ]
  },
  {
   "cell_type": "markdown",
   "metadata": {},
   "source": [
    "# Right Right Triangle"
   ]
  },
  {
   "cell_type": "code",
   "execution_count": 36,
   "metadata": {},
   "outputs": [
    {
     "name": "stdout",
     "output_type": "stream",
     "text": [
      "Enter Number: 6\n",
      "\n",
      "\n",
      "\n",
      "       *\n",
      "      **\n",
      "     ***\n",
      "    ****\n",
      "   *****\n",
      "  ******\n"
     ]
    }
   ],
   "source": [
    "y = int(input(\"Enter Number: \"))\n",
    "x = y\n",
    "\n",
    "print(\"\\n\\n\")\n",
    "\n",
    "for x in range(x):\n",
    "    print(\" \" * (y), \"*\" * (x+1))\n",
    "    y -= 1"
   ]
  },
  {
   "cell_type": "markdown",
   "metadata": {},
   "source": [
    "# Simple Triangle"
   ]
  },
  {
   "cell_type": "code",
   "execution_count": 37,
   "metadata": {},
   "outputs": [
    {
     "name": "stdout",
     "output_type": "stream",
     "text": [
      "Enter Number: 6\n",
      "\n",
      "\n",
      "\n",
      "             *\n",
      "            ***\n",
      "           *****\n",
      "          *******\n",
      "         *********\n",
      "        ***********\n"
     ]
    }
   ],
   "source": [
    "y = int(input(\"Enter Number: \")) * 2\n",
    "x = y\n",
    "\n",
    "print(\"\\n\\n\")\n",
    "\n",
    "for x in range(1,x):\n",
    "    if(x%2==1):\n",
    "        print(\" \" * (y), \"*\" * (x))\n",
    "        y -= 1"
   ]
  },
  {
   "cell_type": "markdown",
   "metadata": {},
   "source": [
    "# Diamond"
   ]
  },
  {
   "cell_type": "code",
   "execution_count": 39,
   "metadata": {},
   "outputs": [
    {
     "name": "stdout",
     "output_type": "stream",
     "text": [
      "Enter Number: 10\n",
      "\n",
      "\n",
      "\n",
      "                     *\n",
      "                    ***\n",
      "                   *****\n",
      "                  *******\n",
      "                 *********\n",
      "                ***********\n",
      "               *************\n",
      "              ***************\n",
      "             *****************\n",
      "            *******************\n",
      "            *******************\n",
      "             *****************\n",
      "              ***************\n",
      "               *************\n",
      "                ***********\n",
      "                 *********\n",
      "                  *******\n",
      "                   *****\n",
      "                    ***\n",
      "                     *\n"
     ]
    }
   ],
   "source": [
    "y = int(input(\"Enter Number: \")) * 2\n",
    "x = y\n",
    "\n",
    "print(\"\\n\\n\")\n",
    "\n",
    "for x in range(1,x):\n",
    "    if(x%2==1):\n",
    "        print(\" \" * (y), \"*\" * (x))\n",
    "        y -= 1\n",
    "for x in range(x,0,-1):\n",
    "    if(x%2==1):\n",
    "        print(\" \" * (y+1), \"*\" * (x))\n",
    "        y += 1"
   ]
  },
  {
   "cell_type": "code",
   "execution_count": 40,
   "metadata": {},
   "outputs": [
    {
     "name": "stdout",
     "output_type": "stream",
     "text": [
      "Enter Number: 10\n",
      "\n",
      "\n",
      "\n",
      "                     *\n",
      "                    ***\n",
      "                   *****\n",
      "                  *******\n",
      "                 *********\n",
      "                ***********\n",
      "               *************\n",
      "              ***************\n",
      "             *****************\n",
      "            *******************\n",
      "             *****************\n",
      "              ***************\n",
      "               *************\n",
      "                ***********\n",
      "                 *********\n",
      "                  *******\n",
      "                   *****\n",
      "                    ***\n",
      "                     *\n"
     ]
    }
   ],
   "source": [
    "y = int(input(\"Enter Number: \")) * 2\n",
    "x = y\n",
    "\n",
    "print(\"\\n\\n\")\n",
    "\n",
    "for x in range(1,x):\n",
    "    if(x%2==1):\n",
    "        print(\" \" * (y), \"*\" * (x))\n",
    "        y -= 1\n",
    "y +=2\n",
    "for x in range(x-1,0,-1):\n",
    "    if(x%2==1):\n",
    "        print(\" \" * (y), \"*\" * (x))\n",
    "        y += 1"
   ]
  },
  {
   "cell_type": "markdown",
   "metadata": {},
   "source": [
    "# Do it for your name"
   ]
  },
  {
   "cell_type": "markdown",
   "metadata": {},
   "source": [
    "# R"
   ]
  },
  {
   "cell_type": "code",
   "execution_count": 3,
   "metadata": {},
   "outputs": [
    {
     "name": "stdout",
     "output_type": "stream",
     "text": [
      "Enter Number: 6\n",
      "\n",
      "\n",
      "\n",
      "** **\n",
      "**    ***\n",
      "**      ***\n",
      "**        ***\n",
      "**          ***\n",
      "**          ***\n",
      "**        ***\n",
      "**      ***\n",
      "**    ***\n",
      "** **\n",
      "** ***\n",
      "**    ***\n",
      "**      ***\n",
      "**        ***\n",
      "**          ***\n",
      "**            ***\n",
      "**              ***\n",
      "**                ***\n"
     ]
    }
   ],
   "source": [
    "x = int(input(\"Enter Number: \"))\n",
    "y = x\n",
    "print(\"\\n\\n\")\n",
    "\n",
    "\n",
    "for x in range(1,x):\n",
    "    if x<=1:\n",
    "        print(\"**\" * (x), \"**\")\n",
    "    else:\n",
    "        print(\"**\" , \"  \" * (x-1), \"***\")\n",
    "    \n",
    "for x in range(x,0,-1):\n",
    "    if x<=1:\n",
    "        print(\"**\" * (x), \"**\")\n",
    "    else:\n",
    "        print(\"**\" , \"  \" * (x-1), \"***\")\n",
    "    \n",
    "    \n",
    "for y in range(y+2):\n",
    "    if y == 0:\n",
    "        print(\"** ***\")\n",
    "    else:\n",
    "        print(\"**\" , \"  \" * (y), \"***\")"
   ]
  },
  {
   "cell_type": "markdown",
   "metadata": {},
   "source": [
    "# N"
   ]
  },
  {
   "cell_type": "code",
   "execution_count": 48,
   "metadata": {},
   "outputs": [
    {
     "name": "stdout",
     "output_type": "stream",
     "text": [
      "Enter Number: 10\n",
      "\n",
      "\n",
      "\n",
      "** **            **\n",
      "**   **          **\n",
      "**    **         **\n",
      "**     **        **\n",
      "**      **       **\n",
      "**       **      **\n",
      "**        **     **\n",
      "**         **    **\n",
      "**          **   **\n",
      "**           **  **\n",
      "**            ** **\n"
     ]
    }
   ],
   "source": [
    "x = int(input(\"Enter Number: \"))\n",
    "y = x-2\n",
    "print(\"\\n\\n\")\n",
    "\n",
    "\n",
    "for x in range(x):\n",
    "    if x == 0:\n",
    "        print(\"** **\", \" \" *(y+2), \"**\")\n",
    "    else:\n",
    "        print(\"**\" , \" \" * (x), \"**\", \" \" * (y), \"**\")\n",
    "        y -= 1\n",
    "print(\"**\", \" \" *(x+1), \"** **\")"
   ]
  },
  {
   "cell_type": "code",
   "execution_count": 1,
   "metadata": {},
   "outputs": [
    {
     "name": "stdout",
     "output_type": "stream",
     "text": [
      "Enter Number: 10\n",
      "\n",
      "\n",
      "\n",
      "           * \n",
      "          * * \n",
      "         * * * \n",
      "        * * * * \n",
      "       * * * * * \n",
      "      * * * * * * \n",
      "     * * * * * * * \n",
      "    * * * * * * * * \n",
      "   * * * * * * * * * \n",
      "  * * * * * * * * * * \n",
      "   * * * * * * * * * \n",
      "    * * * * * * * * \n",
      "     * * * * * * * \n",
      "      * * * * * * \n",
      "       * * * * * \n",
      "        * * * * \n",
      "         * * * \n",
      "          * * \n",
      "           * \n"
     ]
    }
   ],
   "source": [
    "y = int(input(\"Enter Number: \")) \n",
    "x = y\n",
    "\n",
    "print(\"\\n\\n\")\n",
    "\n",
    "for x in range(1,x+1):\n",
    "    print(\" \" * (y), \"* \" * (x))\n",
    "    y -= 1\n",
    "for x in range(x-1,0,-1):\n",
    "    print(\" \" * (y+2), \"* \" * (x))\n",
    "    y += 1"
   ]
  },
  {
   "cell_type": "markdown",
   "metadata": {},
   "source": [
    "# Triangle Border"
   ]
  },
  {
   "cell_type": "code",
   "execution_count": 1,
   "metadata": {},
   "outputs": [
    {
     "name": "stdout",
     "output_type": "stream",
     "text": [
      "Enter Number: 10\n",
      "\n",
      "\n",
      "\n",
      "                     *\n",
      "                    * *\n",
      "                   *   *\n",
      "                  *     *\n",
      "                 *       *\n",
      "                *         *\n",
      "               *           *\n",
      "              *             *\n",
      "             *               *\n",
      "            *                 *\n",
      "           * * * * * * * * * * *\n"
     ]
    }
   ],
   "source": [
    "y = int(input(\"Enter Number: \")) * 2\n",
    "x = z = y\n",
    "\n",
    "print(\"\\n\\n\")\n",
    "\n",
    "print(\" \" * (y+1) + \"*\")\n",
    "for x in range(1,x):\n",
    "    if(x%2==1):\n",
    "        if x != int(z-1/2):\n",
    "            print(\" \" * (y) + \"*\" + \" \" * (x)+ \"*\")\n",
    "        else:\n",
    "            print(\" \" * (y) + \"* \" + \"* \" * int(x/2)+ \"*\")\n",
    "        y -= 1"
   ]
  },
  {
   "cell_type": "code",
   "execution_count": null,
   "metadata": {},
   "outputs": [],
   "source": []
  }
 ],
 "metadata": {
  "kernelspec": {
   "display_name": "Python 3",
   "language": "python",
   "name": "python3"
  },
  "language_info": {
   "codemirror_mode": {
    "name": "ipython",
    "version": 3
   },
   "file_extension": ".py",
   "mimetype": "text/x-python",
   "name": "python",
   "nbconvert_exporter": "python",
   "pygments_lexer": "ipython3",
   "version": "3.7.3"
  }
 },
 "nbformat": 4,
 "nbformat_minor": 2
}
